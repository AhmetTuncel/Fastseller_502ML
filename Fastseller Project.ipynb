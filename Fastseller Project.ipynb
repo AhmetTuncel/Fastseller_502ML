{
 "cells": [
  {
   "cell_type": "markdown",
   "metadata": {},
   "source": [
    "# Fastseller Project\n",
    "Ahmet Tunçel (tuncela@mef.edu.tr)"
   ]
  },
  {
   "cell_type": "markdown",
   "metadata": {},
   "source": [
    "### Import required python libraries"
   ]
  },
  {
   "cell_type": "code",
   "execution_count": 17,
   "metadata": {},
   "outputs": [],
   "source": [
    "import os\n",
    "import pandas as pd\n",
    "import numpy as np\n",
    "import matplotlib.pyplot as plt\n",
    "import seaborn as sns"
   ]
  },
  {
   "cell_type": "code",
   "execution_count": 2,
   "metadata": {},
   "outputs": [
    {
     "name": "stdout",
     "output_type": "stream",
     "text": [
      "Current Working Directory  C:\\Users\\AHMET.TUNCEL\\Desktop\\MEF Yüksek Lisans\\BDA 502-01 Introduction to Machine Learning\\ML_Project\n"
     ]
    }
   ],
   "source": [
    "os.chdir(\"C:/Users/AHMET.TUNCEL/Desktop/MEF Yüksek Lisans/BDA 502-01 Introduction to Machine Learning/ML_Project\")\n",
    "print(\"Current Working Directory \" , os.getcwd())\n"
   ]
  },
  {
   "cell_type": "code",
   "execution_count": 3,
   "metadata": {},
   "outputs": [],
   "source": [
    "kriterrangedf = pd.read_csv('KriterRange.csv')"
   ]
  },
  {
   "cell_type": "code",
   "execution_count": 5,
   "metadata": {},
   "outputs": [
    {
     "name": "stdout",
     "output_type": "stream",
     "text": [
      "Index(['HaftaAraligi', 'MerchMarkaYasGrupRef', 'KlasmanGrupRef', 'UrunDurum',\n",
      "       'Kriter_1', 'Kriter_2', 'Kriter_3', 'Kriter_4', 'Kriter_5', 'Kriter_6',\n",
      "       ...\n",
      "       'Kriter_211', 'Kriter_212', 'Kriter_213', 'Kriter_214', 'Kriter_215',\n",
      "       'Kriter_216', 'Kriter_217', 'Kriter_218', 'Kriter_219', 'Kriter_220'],\n",
      "      dtype='object', length=224)\n",
      "    HaftaAraligi  MerchMarkaYasGrupRef  KlasmanGrupRef            UrunDurum  \\\n",
      "0  201701-201705                     2              63  HEM KARLI HEM HIZLI   \n",
      "1  201701-201705                     2              63  HEM KARLI HEM HIZLI   \n",
      "2  201701-201705                     2              63  HEM KARLI HEM HIZLI   \n",
      "3  201701-201705                     2              63      KARLI AMA YAVAS   \n",
      "4  201701-201705                     2              63     KARSIZ AMA HIZLI   \n",
      "\n",
      "   Kriter_1  Kriter_2  Kriter_3  Kriter_4  Kriter_5  Kriter_6     ...      \\\n",
      "0       NaN       NaN       NaN       NaN       NaN       NaN     ...       \n",
      "1       NaN       NaN       NaN       NaN       NaN       NaN     ...       \n",
      "2       NaN       NaN       NaN       NaN       NaN       NaN     ...       \n",
      "3       NaN       NaN       NaN       NaN       NaN       NaN     ...       \n",
      "4       NaN       NaN       NaN       NaN       NaN       NaN     ...       \n",
      "\n",
      "   Kriter_211  Kriter_212  Kriter_213  Kriter_214  Kriter_215  Kriter_216  \\\n",
      "0         NaN         8.0         NaN         NaN         NaN        12.0   \n",
      "1         NaN         8.0         NaN         NaN         NaN         NaN   \n",
      "2         NaN         8.0         NaN         NaN         NaN         NaN   \n",
      "3         NaN         8.0         NaN         NaN         NaN         NaN   \n",
      "4         NaN         8.0         NaN         NaN         NaN         NaN   \n",
      "\n",
      "   Kriter_217  Kriter_218  Kriter_219  Kriter_220  \n",
      "0         NaN         NaN         NaN         NaN  \n",
      "1         NaN         NaN         NaN         NaN  \n",
      "2         NaN         NaN         NaN         NaN  \n",
      "3         NaN         NaN         NaN         NaN  \n",
      "4         NaN         NaN         NaN         NaN  \n",
      "\n",
      "[5 rows x 224 columns]\n",
      "(90114, 224)\n"
     ]
    }
   ],
   "source": [
    "print(kriterrangedf.columns)\n",
    "\n",
    "print(kriterrangedf.head())\n",
    "\n",
    "print(kriterrangedf.shape)\n",
    "\n"
   ]
  },
  {
   "cell_type": "code",
   "execution_count": 6,
   "metadata": {},
   "outputs": [
    {
     "name": "stdout",
     "output_type": "stream",
     "text": [
      "<class 'pandas.core.frame.DataFrame'>\n",
      "RangeIndex: 90114 entries, 0 to 90113\n",
      "Data columns (total 4 columns):\n",
      "HaftaAraligi            90114 non-null object\n",
      "MerchMarkaYasGrupRef    90114 non-null int64\n",
      "KlasmanGrupRef          90114 non-null int64\n",
      "UrunDurum               90114 non-null object\n",
      "dtypes: int64(2), object(2)\n",
      "memory usage: 2.8+ MB\n",
      "None\n"
     ]
    }
   ],
   "source": [
    "print(kriterrangedf[['HaftaAraligi', 'MerchMarkaYasGrupRef', 'KlasmanGrupRef', 'UrunDurum']].info())"
   ]
  },
  {
   "cell_type": "code",
   "execution_count": 7,
   "metadata": {},
   "outputs": [
    {
     "name": "stdout",
     "output_type": "stream",
     "text": [
      "<class 'pandas.core.frame.DataFrame'>\n",
      "RangeIndex: 90114 entries, 0 to 90113\n",
      "Columns: 220 entries, Kriter_1 to Kriter_220\n",
      "dtypes: float64(220)\n",
      "memory usage: 151.3 MB\n",
      "None\n"
     ]
    }
   ],
   "source": [
    "print(kriterrangedf.iloc[:,4:].info())\n"
   ]
  },
  {
   "cell_type": "code",
   "execution_count": 9,
   "metadata": {},
   "outputs": [
    {
     "name": "stdout",
     "output_type": "stream",
     "text": [
      "292.0\n"
     ]
    }
   ],
   "source": [
    "def findmaxrangevalue():\n",
    "    \n",
    "    rangelist = []\n",
    "    for i in range(4,221):  \n",
    "        a = kriterrangedf.iloc[:,i].max()\n",
    "        rangelist.append(a)\n",
    "    return max(rangelist)     \n",
    "\n",
    "print(findmaxrangevalue())\n"
   ]
  },
  {
   "cell_type": "code",
   "execution_count": 10,
   "metadata": {},
   "outputs": [
    {
     "data": {
      "text/plain": [
       "False"
      ]
     },
     "execution_count": 10,
     "metadata": {},
     "output_type": "execute_result"
    }
   ],
   "source": [
    "kriterrangedf[['HaftaAraligi', 'MerchMarkaYasGrupRef', 'KlasmanGrupRef', 'UrunDurum']].isnull().values.any()"
   ]
  },
  {
   "cell_type": "code",
   "execution_count": 11,
   "metadata": {},
   "outputs": [
    {
     "data": {
      "text/plain": [
       "True"
      ]
     },
     "execution_count": 11,
     "metadata": {},
     "output_type": "execute_result"
    }
   ],
   "source": [
    "kriterrangedf.iloc[:,4:].isnull().values.any()"
   ]
  },
  {
   "cell_type": "code",
   "execution_count": 12,
   "metadata": {},
   "outputs": [],
   "source": [
    "kriterrangedf = kriterrangedf.fillna(999)"
   ]
  },
  {
   "cell_type": "code",
   "execution_count": 13,
   "metadata": {},
   "outputs": [
    {
     "data": {
      "text/html": [
       "<div>\n",
       "<style scoped>\n",
       "    .dataframe tbody tr th:only-of-type {\n",
       "        vertical-align: middle;\n",
       "    }\n",
       "\n",
       "    .dataframe tbody tr th {\n",
       "        vertical-align: top;\n",
       "    }\n",
       "\n",
       "    .dataframe thead th {\n",
       "        text-align: right;\n",
       "    }\n",
       "</style>\n",
       "<table border=\"1\" class=\"dataframe\">\n",
       "  <thead>\n",
       "    <tr style=\"text-align: right;\">\n",
       "      <th></th>\n",
       "      <th>HaftaAraligi</th>\n",
       "      <th>MerchMarkaYasGrupRef</th>\n",
       "      <th>KlasmanGrupRef</th>\n",
       "      <th>UrunDurum</th>\n",
       "      <th>Kriter_1</th>\n",
       "      <th>Kriter_2</th>\n",
       "      <th>Kriter_3</th>\n",
       "      <th>Kriter_4</th>\n",
       "      <th>Kriter_5</th>\n",
       "      <th>Kriter_6</th>\n",
       "      <th>...</th>\n",
       "      <th>Kriter_211</th>\n",
       "      <th>Kriter_212</th>\n",
       "      <th>Kriter_213</th>\n",
       "      <th>Kriter_214</th>\n",
       "      <th>Kriter_215</th>\n",
       "      <th>Kriter_216</th>\n",
       "      <th>Kriter_217</th>\n",
       "      <th>Kriter_218</th>\n",
       "      <th>Kriter_219</th>\n",
       "      <th>Kriter_220</th>\n",
       "    </tr>\n",
       "  </thead>\n",
       "  <tbody>\n",
       "    <tr>\n",
       "      <th>0</th>\n",
       "      <td>201701-201705</td>\n",
       "      <td>2</td>\n",
       "      <td>63</td>\n",
       "      <td>HEM KARLI HEM HIZLI</td>\n",
       "      <td>999</td>\n",
       "      <td>999</td>\n",
       "      <td>999</td>\n",
       "      <td>999</td>\n",
       "      <td>999</td>\n",
       "      <td>999</td>\n",
       "      <td>...</td>\n",
       "      <td>999</td>\n",
       "      <td>8</td>\n",
       "      <td>999</td>\n",
       "      <td>999</td>\n",
       "      <td>999</td>\n",
       "      <td>12</td>\n",
       "      <td>999</td>\n",
       "      <td>999</td>\n",
       "      <td>999</td>\n",
       "      <td>999</td>\n",
       "    </tr>\n",
       "    <tr>\n",
       "      <th>1</th>\n",
       "      <td>201701-201705</td>\n",
       "      <td>2</td>\n",
       "      <td>63</td>\n",
       "      <td>HEM KARLI HEM HIZLI</td>\n",
       "      <td>999</td>\n",
       "      <td>999</td>\n",
       "      <td>999</td>\n",
       "      <td>999</td>\n",
       "      <td>999</td>\n",
       "      <td>999</td>\n",
       "      <td>...</td>\n",
       "      <td>999</td>\n",
       "      <td>8</td>\n",
       "      <td>999</td>\n",
       "      <td>999</td>\n",
       "      <td>999</td>\n",
       "      <td>999</td>\n",
       "      <td>999</td>\n",
       "      <td>999</td>\n",
       "      <td>999</td>\n",
       "      <td>999</td>\n",
       "    </tr>\n",
       "    <tr>\n",
       "      <th>2</th>\n",
       "      <td>201701-201705</td>\n",
       "      <td>2</td>\n",
       "      <td>63</td>\n",
       "      <td>HEM KARLI HEM HIZLI</td>\n",
       "      <td>999</td>\n",
       "      <td>999</td>\n",
       "      <td>999</td>\n",
       "      <td>999</td>\n",
       "      <td>999</td>\n",
       "      <td>999</td>\n",
       "      <td>...</td>\n",
       "      <td>999</td>\n",
       "      <td>8</td>\n",
       "      <td>999</td>\n",
       "      <td>999</td>\n",
       "      <td>999</td>\n",
       "      <td>999</td>\n",
       "      <td>999</td>\n",
       "      <td>999</td>\n",
       "      <td>999</td>\n",
       "      <td>999</td>\n",
       "    </tr>\n",
       "    <tr>\n",
       "      <th>3</th>\n",
       "      <td>201701-201705</td>\n",
       "      <td>2</td>\n",
       "      <td>63</td>\n",
       "      <td>KARLI AMA YAVAS</td>\n",
       "      <td>999</td>\n",
       "      <td>999</td>\n",
       "      <td>999</td>\n",
       "      <td>999</td>\n",
       "      <td>999</td>\n",
       "      <td>999</td>\n",
       "      <td>...</td>\n",
       "      <td>999</td>\n",
       "      <td>8</td>\n",
       "      <td>999</td>\n",
       "      <td>999</td>\n",
       "      <td>999</td>\n",
       "      <td>999</td>\n",
       "      <td>999</td>\n",
       "      <td>999</td>\n",
       "      <td>999</td>\n",
       "      <td>999</td>\n",
       "    </tr>\n",
       "    <tr>\n",
       "      <th>4</th>\n",
       "      <td>201701-201705</td>\n",
       "      <td>2</td>\n",
       "      <td>63</td>\n",
       "      <td>KARSIZ AMA HIZLI</td>\n",
       "      <td>999</td>\n",
       "      <td>999</td>\n",
       "      <td>999</td>\n",
       "      <td>999</td>\n",
       "      <td>999</td>\n",
       "      <td>999</td>\n",
       "      <td>...</td>\n",
       "      <td>999</td>\n",
       "      <td>8</td>\n",
       "      <td>999</td>\n",
       "      <td>999</td>\n",
       "      <td>999</td>\n",
       "      <td>999</td>\n",
       "      <td>999</td>\n",
       "      <td>999</td>\n",
       "      <td>999</td>\n",
       "      <td>999</td>\n",
       "    </tr>\n",
       "  </tbody>\n",
       "</table>\n",
       "<p>5 rows × 224 columns</p>\n",
       "</div>"
      ],
      "text/plain": [
       "    HaftaAraligi  MerchMarkaYasGrupRef  KlasmanGrupRef            UrunDurum  \\\n",
       "0  201701-201705                     2              63  HEM KARLI HEM HIZLI   \n",
       "1  201701-201705                     2              63  HEM KARLI HEM HIZLI   \n",
       "2  201701-201705                     2              63  HEM KARLI HEM HIZLI   \n",
       "3  201701-201705                     2              63      KARLI AMA YAVAS   \n",
       "4  201701-201705                     2              63     KARSIZ AMA HIZLI   \n",
       "\n",
       "   Kriter_1  Kriter_2  Kriter_3  Kriter_4  Kriter_5  Kriter_6     ...      \\\n",
       "0       999       999       999       999       999       999     ...       \n",
       "1       999       999       999       999       999       999     ...       \n",
       "2       999       999       999       999       999       999     ...       \n",
       "3       999       999       999       999       999       999     ...       \n",
       "4       999       999       999       999       999       999     ...       \n",
       "\n",
       "   Kriter_211  Kriter_212  Kriter_213  Kriter_214  Kriter_215  Kriter_216  \\\n",
       "0         999           8         999         999         999          12   \n",
       "1         999           8         999         999         999         999   \n",
       "2         999           8         999         999         999         999   \n",
       "3         999           8         999         999         999         999   \n",
       "4         999           8         999         999         999         999   \n",
       "\n",
       "   Kriter_217  Kriter_218  Kriter_219  Kriter_220  \n",
       "0         999         999         999         999  \n",
       "1         999         999         999         999  \n",
       "2         999         999         999         999  \n",
       "3         999         999         999         999  \n",
       "4         999         999         999         999  \n",
       "\n",
       "[5 rows x 224 columns]"
      ]
     },
     "execution_count": 13,
     "metadata": {},
     "output_type": "execute_result"
    }
   ],
   "source": [
    "kriterrangedf.iloc[:,4:] = kriterrangedf.iloc[:,4:].astype('int64')\n",
    "\n",
    "kriterrangedf.head()"
   ]
  },
  {
   "cell_type": "code",
   "execution_count": 18,
   "metadata": {},
   "outputs": [
    {
     "ename": "TypeError",
     "evalue": "unsupported operand type(s) for /: 'str' and 'int'",
     "output_type": "error",
     "traceback": [
      "\u001b[1;31m---------------------------------------------------------------------------\u001b[0m",
      "\u001b[1;31mTypeError\u001b[0m                                 Traceback (most recent call last)",
      "\u001b[1;32m<ipython-input-18-00a727da28e0>\u001b[0m in \u001b[0;36m<module>\u001b[1;34m()\u001b[0m\n\u001b[0;32m      1\u001b[0m \u001b[1;31m#histogram\u001b[0m\u001b[1;33m\u001b[0m\u001b[1;33m\u001b[0m\u001b[0m\n\u001b[1;32m----> 2\u001b[1;33m \u001b[0msns\u001b[0m\u001b[1;33m.\u001b[0m\u001b[0mdistplot\u001b[0m\u001b[1;33m(\u001b[0m\u001b[0mkriterrangedf\u001b[0m\u001b[1;33m[\u001b[0m\u001b[1;34m'UrunDurum'\u001b[0m\u001b[1;33m]\u001b[0m\u001b[1;33m)\u001b[0m\u001b[1;33m;\u001b[0m\u001b[1;33m\u001b[0m\u001b[0m\n\u001b[0m",
      "\u001b[1;32m~\\AppData\\Local\\Continuum\\Anaconda3\\lib\\site-packages\\seaborn\\distributions.py\u001b[0m in \u001b[0;36mdistplot\u001b[1;34m(a, bins, hist, kde, rug, fit, hist_kws, kde_kws, rug_kws, fit_kws, color, vertical, norm_hist, axlabel, label, ax)\u001b[0m\n\u001b[0;32m    193\u001b[0m             \u001b[0mline\u001b[0m\u001b[1;33m,\u001b[0m \u001b[1;33m=\u001b[0m \u001b[0max\u001b[0m\u001b[1;33m.\u001b[0m\u001b[0mplot\u001b[0m\u001b[1;33m(\u001b[0m\u001b[1;36m0\u001b[0m\u001b[1;33m,\u001b[0m \u001b[0ma\u001b[0m\u001b[1;33m.\u001b[0m\u001b[0mmean\u001b[0m\u001b[1;33m(\u001b[0m\u001b[1;33m)\u001b[0m\u001b[1;33m)\u001b[0m\u001b[1;33m\u001b[0m\u001b[0m\n\u001b[0;32m    194\u001b[0m         \u001b[1;32melse\u001b[0m\u001b[1;33m:\u001b[0m\u001b[1;33m\u001b[0m\u001b[0m\n\u001b[1;32m--> 195\u001b[1;33m             \u001b[0mline\u001b[0m\u001b[1;33m,\u001b[0m \u001b[1;33m=\u001b[0m \u001b[0max\u001b[0m\u001b[1;33m.\u001b[0m\u001b[0mplot\u001b[0m\u001b[1;33m(\u001b[0m\u001b[0ma\u001b[0m\u001b[1;33m.\u001b[0m\u001b[0mmean\u001b[0m\u001b[1;33m(\u001b[0m\u001b[1;33m)\u001b[0m\u001b[1;33m,\u001b[0m \u001b[1;36m0\u001b[0m\u001b[1;33m)\u001b[0m\u001b[1;33m\u001b[0m\u001b[0m\n\u001b[0m\u001b[0;32m    196\u001b[0m         \u001b[0mcolor\u001b[0m \u001b[1;33m=\u001b[0m \u001b[0mline\u001b[0m\u001b[1;33m.\u001b[0m\u001b[0mget_color\u001b[0m\u001b[1;33m(\u001b[0m\u001b[1;33m)\u001b[0m\u001b[1;33m\u001b[0m\u001b[0m\n\u001b[0;32m    197\u001b[0m         \u001b[0mline\u001b[0m\u001b[1;33m.\u001b[0m\u001b[0mremove\u001b[0m\u001b[1;33m(\u001b[0m\u001b[1;33m)\u001b[0m\u001b[1;33m\u001b[0m\u001b[0m\n",
      "\u001b[1;32m~\\AppData\\Local\\Continuum\\Anaconda3\\lib\\site-packages\\numpy\\core\\_methods.py\u001b[0m in \u001b[0;36m_mean\u001b[1;34m(a, axis, dtype, out, keepdims)\u001b[0m\n\u001b[0;32m     80\u001b[0m             \u001b[0mret\u001b[0m \u001b[1;33m=\u001b[0m \u001b[0mret\u001b[0m\u001b[1;33m.\u001b[0m\u001b[0mdtype\u001b[0m\u001b[1;33m.\u001b[0m\u001b[0mtype\u001b[0m\u001b[1;33m(\u001b[0m\u001b[0mret\u001b[0m \u001b[1;33m/\u001b[0m \u001b[0mrcount\u001b[0m\u001b[1;33m)\u001b[0m\u001b[1;33m\u001b[0m\u001b[0m\n\u001b[0;32m     81\u001b[0m     \u001b[1;32melse\u001b[0m\u001b[1;33m:\u001b[0m\u001b[1;33m\u001b[0m\u001b[0m\n\u001b[1;32m---> 82\u001b[1;33m         \u001b[0mret\u001b[0m \u001b[1;33m=\u001b[0m \u001b[0mret\u001b[0m \u001b[1;33m/\u001b[0m \u001b[0mrcount\u001b[0m\u001b[1;33m\u001b[0m\u001b[0m\n\u001b[0m\u001b[0;32m     83\u001b[0m \u001b[1;33m\u001b[0m\u001b[0m\n\u001b[0;32m     84\u001b[0m     \u001b[1;32mreturn\u001b[0m \u001b[0mret\u001b[0m\u001b[1;33m\u001b[0m\u001b[0m\n",
      "\u001b[1;31mTypeError\u001b[0m: unsupported operand type(s) for /: 'str' and 'int'"
     ]
    },
    {
     "data": {
      "image/png": "[encoded data removed]",
      "text/plain": [
       "<Figure size 432x288 with 1 Axes>"
      ]
     },
     "metadata": {},
     "output_type": "display_data"
    }
   ],
   "source": [
    "#histogram\n",
    "sns.distplot(kriterrangedf['UrunDurum']);"
   ]
  }
 ],
 "metadata": {
  "kernelspec": {
   "display_name": "Python 3",
   "language": "python",
   "name": "python3"
  },
  "language_info": {
   "codemirror_mode": {
    "name": "ipython",
    "version": 3
   },
   "file_extension": ".py",
   "mimetype": "text/x-python",
   "name": "python",
   "nbconvert_exporter": "python",
   "pygments_lexer": "ipython3",
   "version": "3.6.5"
  }
 },
 "nbformat": 4,
 "nbformat_minor": 2
}
